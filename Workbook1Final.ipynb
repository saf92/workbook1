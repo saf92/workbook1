{
 "cells": [
  {
   "cell_type": "markdown",
   "metadata": {},
   "source": [
    "## Question 1: Precision of floating point arithmetic\n",
    "\n",
    "Consider the recursion relation\n",
    "\n",
    "$a_{n+1} = 2\\, a_n - \\frac{8}{9}\\, a_{n-1}$\n",
    "\n",
    "with the initial conditions $a_1=1$ and $a_2=\\frac{2}{3}$. \n",
    "\n",
    "1. Calculate the first 80 terms in this sequence using single precision floating point arithmetic (Float32 in Julia). Plot the resulting sequence on a lin-log plot.\n",
    "\n",
    "2. Repeat the calculation using double precision floating point arithmetic (Float64 in Julia) and add the results to to your plot.\n",
    "\n",
    "3. Find the **general** solution of the recursion relation analytically (it should contain two arbitrary constants). Hint: start from the ansatz $a_n = x^n$ and find the the allowed values of $x$.\n",
    "\n",
    "4. Find the solution that satisfies the initial conditions $a_1=1$ and $a_2=\\frac{2}{3}$. \n",
    "\n",
    "5. Find the solution that satisfies the perturbed initial conditions $a_1=1$ and $a_2=\\frac{2}{3}+\\epsilon$. Use the answer to explain your numerical results.\n",
    "\n",
    "6. Julia supports arbitrary precision floating point arithmetic using the BigFloat type (see https://docs.julialang.org/en/latest/manual/integers-and-floating-point-numbers/#Arbitrary-Precision-Arithmetic-1). Try to reproduce the exact solution for the first 80 terms in the sequence using 128 bit precision and show the results on your plot."
   ]
  },
  {
   "cell_type": "code",
   "execution_count": 3,
   "metadata": {
    "collapsed": true
   },
   "outputs": [],
   "source": [
    "using PyPlot"
   ]
  },
  {
   "cell_type": "markdown",
   "metadata": {},
   "source": [
    "1.,2.& 6.: Plotting first 80 terms of $a_n$ using Float32, Float64 and BigFloat"
   ]
  },
  {
   "cell_type": "code",
   "execution_count": 5,
   "metadata": {},
   "outputs": [
    {
     "data": {
      "image/png": "[encoded data removed]",
      "text/plain": [
       "PyPlot.Figure(PyObject <matplotlib.figure.Figure object at 0x7faf52dfe9d0>)"
      ]
     },
     "metadata": {},
     "output_type": "display_data"
    },
    {
     "data": {
      "text/plain": [
       "PyObject <matplotlib.legend.Legend object at 0x7faf4cd50d10>"
      ]
     },
     "execution_count": 5,
     "metadata": {},
     "output_type": "execute_result"
    }
   ],
   "source": [
    "\n",
    "a_1=Float32(1)\n",
    "a_2=Float32(2)/Float32(3)\n",
    "\n",
    "x=1:80\n",
    "y=convert(Vector{Float32},zeros(80))\n",
    "\n",
    "y[1]=a_1\n",
    "y[2]=a_2\n",
    "\n",
    "\n",
    "for i=1:78\n",
    "    a=Float32(2)*a_2-Float32(8)/Float32(9)*a_1\n",
    "    y[i+2]=a\n",
    "    a_1=a_2\n",
    "    a_2=a\n",
    "end\n",
    "\n",
    "semilogy(x,y,\"o\",label=\"Float32\")\n",
    "\n",
    "a_1=1\n",
    "a_2=2/3\n",
    "\n",
    "y=zeros(80)\n",
    "\n",
    "y[1]=a_1\n",
    "y[2]=a_2\n",
    "\n",
    "for i=1:78\n",
    "    a=2*a_2-8/9*a_1\n",
    "    y[i+2]=a\n",
    "    a_1=a_2\n",
    "    a_2=a\n",
    "end\n",
    "\n",
    "semilogy(x,y,\"o\",label=\"Float64\")\n",
    "\n",
    "\n",
    "a_1=BigFloat(1)\n",
    "a_2=BigFloat(2)/BigFloat(3)\n",
    "\n",
    "y=convert(Vector{BigFloat},zeros(80))\n",
    "\n",
    "y[1]=a_1\n",
    "y[2]=a_2\n",
    "\n",
    "for i=1:78\n",
    "    a=BigFloat(2)*a_2-BigFloat(8)/BigFloat(9)*a_1\n",
    "    y[i+2]=a\n",
    "    a_1=a_2\n",
    "    a_2=a\n",
    "end\n",
    "\n",
    "semilogy(x,y,\"o\",label=\"BigFloat\")\n",
    "\n",
    "legend()"
   ]
  },
  {
   "cell_type": "markdown",
   "metadata": {},
   "source": [
    "\n",
    "********************************************************\n",
    "\n",
    "\\usepackage{amsmath,amssymb}\n",
    "\n",
    "<br/>\n",
    "\n",
    "3.\n",
    "\n",
    "General solution of $a_{n+1}=2a_n-\\frac{8}{9}a_{n-1}$ \n",
    "\n",
    "Ansatz $a_n=x^n$ $\\Rightarrow$ \n",
    "\n",
    "$x^{n+1}=2x^n-\\frac{8}{9}x^{n-1}$ $\\Rightarrow$ \n",
    "\n",
    "$x^{n+1}-2x^n+\\frac{8}{9}x^{n-1}=0$ $\\Rightarrow$ \n",
    "\n",
    "$x^{n-1}(x^2-2x+\\frac{8}{9})=0$ $\\Rightarrow$ \n",
    "\n",
    "$x=0$ or $x_{1,2}=\\frac{ 2 \\pm \\sqrt{ \\strut 4-\\frac{32}{9}}}{2} = \\frac{2 \\pm \\sqrt{\\frac{4}{9}}}{2} = 1 \\pm \\frac{1}{3}$\n",
    "\n",
    "General solution is $a_n=C_1x_{1}^n+C_2x_{2}^{n}$\n",
    "\n",
    "\n",
    "\n",
    "\n",
    "\n",
    "\n",
    "\n",
    "With $a_1=1$, $a_2=\\frac{2}{3}$.\n",
    "\n"
   ]
  },
  {
   "cell_type": "code",
   "execution_count": null,
   "metadata": {
    "collapsed": true
   },
   "outputs": [],
   "source": []
  }
 ],
 "metadata": {
  "kernelspec": {
   "display_name": "Julia 0.5.2",
   "language": "julia",
   "name": "julia-0.5"
  },
  "language_info": {
   "file_extension": ".jl",
   "mimetype": "application/julia",
   "name": "julia",
   "version": "0.5.2"
  }
 },
 "nbformat": 4,
 "nbformat_minor": 2
}
